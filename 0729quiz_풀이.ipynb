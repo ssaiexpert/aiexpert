{
 "cells": [
  {
   "cell_type": "code",
   "execution_count": 0,
   "metadata": {
    "colab": {},
    "colab_type": "code",
    "id": "fUJ9nQdcki2y"
   },
   "outputs": [],
   "source": [
    "import torch\n",
    "import torch.nn as nn \n",
    "import torch.nn.functional as F \n",
    "import torchvision \n",
    "import torchvision.datasets as vision_dsets\n",
    "import torchvision.transforms as transforms \n",
    "import torch.optim as optim \n",
    "from torch.utils import data\n",
    "\n",
    "import numpy as np\n",
    "import matplotlib.pyplot as plt "
   ]
  },
  {
   "cell_type": "markdown",
   "metadata": {
    "colab_type": "text",
    "id": "Q20y_djVki21"
   },
   "source": [
    "# Quiz 1: Pytorch 제공 API 연습하기\n",
    "    \n",
    "- Pytorch에서 데이터 디멘션을 다루는 연습입니다.\n",
    "- 아래 물음표 부분을 채워주세요. \n",
    "- 셀 실행시에 두 문제 모두 답이 맞다고 나오는 것을 확인하고 넘어가주세요.\n",
    "- 잘 모르는 함수에 대해서는 아래 PyTorch API 링크를 확인해주세요.\n",
    " - https://pytorch.org/docs/stable/tensors.html"
   ]
  },
  {
   "cell_type": "code",
   "execution_count": 2,
   "metadata": {
    "colab": {
     "base_uri": "https://localhost:8080/",
     "height": 53
    },
    "colab_type": "code",
    "executionInfo": {
     "elapsed": 1203,
     "status": "ok",
     "timestamp": 1564999670748,
     "user": {
      "displayName": "Jinho Oh",
      "photoUrl": "",
      "userId": "02040711940562046197"
     },
     "user_tz": -540
    },
    "id": "6Be7GNWrki22",
    "outputId": "d266c4db-bb68-4284-ab74-545e16a69cc4"
   },
   "outputs": [
    {
     "name": "stdout",
     "output_type": "stream",
     "text": [
      "문제 1.1: 정답입니다\n",
      "문제 1.2: 정답입니다\n"
     ]
    }
   ],
   "source": [
    "####==== 1.1 torch.view 연습 ====####\n",
    "\n",
    "\n",
    "sample = torch.randn(2000,3,64,64) \n",
    "# torch.randn()은 안에 기재된 디멘션만큼 평균 0, 표준편차 1의 난수를 파라미터로 갖는 텐서를 생성합니다.\n",
    "# [2000, 3, 64, 64] dimension을 가지는 데이터라고 가정합니다.\n",
    "#\n",
    "\n",
    "sample_1 = sample.view(2000,-1) # 위 sample 을 (2000, 3*64*64)으로 바꿔보세요.   #######################################\n",
    "sample_2 = sample.view(2000*3,64*64) # 위 sample 을 (2000*3, 64*64)로 바꿔보세요.  ####################################\n",
    "\n",
    "##### 정답 check ####\n",
    "a = sample_1.size(0) == 2000 and sample_1.size(1) == 3*64*64 # True가 나와야 합니다.\n",
    "b = sample_2.size(0) == 2000*3 and sample_2.size(1) == 64*64\n",
    "if a and b:\n",
    "  print(\"문제 1.1: 정답입니다\")\n",
    "else:\n",
    "  print(\"문제 1.1: 답이 아닙니다\")\n",
    "\n",
    "  \n",
    "  \n",
    "####==== 1.2 torch.permute 연습 ====####\n",
    "\n",
    "sample = torch.randn(2000,3,64,64)\n",
    "\n",
    "sample_1 = sample.permute(0,2,1,3) # 위 sample 을 디멘션 (2000,64,3,64)로 바꿔보세요.      ########################################\n",
    "sample_2 = sample.permute(0,2,3,1).view(2000,64*64,3) # 위 sample 을 디멘션 (2000,64*64,3)로 바꿔보세요.  #########################\n",
    " \n",
    "\n",
    "##### 정답 check ####\n",
    "a = sample_1.size(0) == 2000 and sample_1.size(2) == 3 # True가 나와야 합니다.\n",
    "b = sample_2.size(1) == 64*64 and sample_2.size(2) == 3\n",
    "if a and b:\n",
    "  print(\"문제 1.2: 정답입니다\")\n",
    "else:\n",
    "  print(\"문제 1.2: 답이 아닙니다\")\n"
   ]
  },
  {
   "cell_type": "markdown",
   "metadata": {
    "colab_type": "text",
    "id": "be5LypKBki3E"
   },
   "source": [
    "# Quiz 2: 뉴럴넷 모델링 연습\n",
    "\n"
   ]
  },
  {
   "cell_type": "code",
   "execution_count": 3,
   "metadata": {
    "colab": {
     "base_uri": "https://localhost:8080/",
     "height": 53
    },
    "colab_type": "code",
    "executionInfo": {
     "elapsed": 722,
     "status": "ok",
     "timestamp": 1564999675013,
     "user": {
      "displayName": "Jinho Oh",
      "photoUrl": "",
      "userId": "02040711940562046197"
     },
     "user_tz": -540
    },
    "id": "9aVt5MFfki3F",
    "outputId": "e8568f51-447e-4abe-fd92-eb106cd475d5"
   },
   "outputs": [
    {
     "name": "stdout",
     "output_type": "stream",
     "text": [
      "문제 2 : 정답입니다\n",
      "torch.Size([100, 10])\n"
     ]
    }
   ],
   "source": [
    "####==== 2. 모델링 연습====####\n",
    "\n",
    "sample_input = torch.randn(100, 1, 28, 28)\n",
    "# 빈 곳을 채워서 위의 sample 입력값에 대해 예측값이 나오도록 해봅니다.\n",
    "# 최종 클래스 개수는 10 입니다.\n",
    "                          \n",
    "class MNIST_Net(nn.Module):\n",
    "    def __init__(self):\n",
    "        super(MNIST_Net, self).__init__() \n",
    "        self.fc0 = nn.Linear(1*28*28, 30)              #################################################\n",
    "        self.fc1 = nn.Linear(30, 10)\n",
    "\n",
    "    def forward(self, x):\n",
    "        x = x.view(-1,1*28*28)                         ################################################\n",
    "        x = torch.sigmoid(self.fc0(x))\n",
    "        x = self.fc1(x) \n",
    "        return x\n",
    "\n",
    "model = MNIST_Net()\n",
    "output = model(sample_input)\n",
    "\n",
    "##### 정답 check ####\n",
    "a = (output.size(0) == 100 and output.size(1) == 10) # True가 나와야 합니다.\n",
    "\n",
    "if a:\n",
    "  print(\"문제 2 : 정답입니다\")\n",
    "else:\n",
    "  print(\"문제 2 : 답이 아닙니다\")\n",
    "\n",
    "print(output.shape)"
   ]
  },
  {
   "cell_type": "markdown",
   "metadata": {
    "colab_type": "text",
    "id": "gMhsWZq6ki3R"
   },
   "source": [
    "# Quiz 3: Data Loader\n",
    "- 강의 내용을 참고하여 다음의 데이터 로더를 정의하세요.\n",
    "- 목적: 모델 학습 (즉, train_loader만)\n",
    "- 데이터셋: CIFAR-10\n",
    "- 배치 사이즈: 64\n",
    "- 학습 시 셔플링을 합니다\n",
    "- 이미지를 불러올 때 다음과 같은 변형을 가합니다.\n",
    " - 50% 확률로 horizontal flipping\n",
    " - pytorch tensor로 변환\n",
    " - 이미지 사이즈를 32 x 32에서 20 x 20으로 조정\n",
    " - Color Jittering을 사용 (torchvision.transforms.ColorJitter)\n",
    " \n",
    " "
   ]
  },
  {
   "cell_type": "code",
   "execution_count": 4,
   "metadata": {
    "colab": {
     "base_uri": "https://localhost:8080/",
     "height": 71
    },
    "colab_type": "code",
    "executionInfo": {
     "elapsed": 5900,
     "status": "ok",
     "timestamp": 1564999684225,
     "user": {
      "displayName": "Jinho Oh",
      "photoUrl": "",
      "userId": "02040711940562046197"
     },
     "user_tz": -540
    },
    "id": "6ecCWgXQki3R",
    "outputId": "7688b6cc-3c9f-4c91-b11e-2933d4f577a8"
   },
   "outputs": [
    {
     "name": "stderr",
     "output_type": "stream",
     "text": [
      "  0%|          | 0/170498071 [00:00<?, ?it/s]"
     ]
    },
    {
     "name": "stdout",
     "output_type": "stream",
     "text": [
      "Downloading https://www.cs.toronto.edu/~kriz/cifar-10-python.tar.gz to ./data/cifar-10-python.tar.gz\n"
     ]
    },
    {
     "name": "stderr",
     "output_type": "stream",
     "text": [
      "170500096it [00:02, 72200758.43it/s]                               \n"
     ]
    },
    {
     "name": "stdout",
     "output_type": "stream",
     "text": [
      "torch.Size([64, 3, 20, 20])\n"
     ]
    }
   ],
   "source": [
    "# 다시 실행시키려면 현재 folder의 data folder를 지우세여                               ##########################################\n",
    "transform=torchvision.transforms.Compose([                                                  \n",
    "                              torchvision.transforms.RandomHorizontalFlip(0.5),                                                        \n",
    "                              torchvision.transforms.Resize((20,20)),         \n",
    "                              torchvision.transforms.ColorJitter(),\n",
    "                              torchvision.transforms.ToTensor(),      \n",
    "                              ])  \n",
    "\n",
    "train_d = torchvision.datasets.CIFAR10('./data', train=True, download=True, transform=transform)                            \n",
    "\n",
    "train_loader = torch.utils.data.DataLoader(train_d, batch_size=64, shuffle=True)      ###########################################\n",
    "\n",
    "##### 정답 check ####\n",
    "\n",
    "# 위 코드를 완성해주시기 바랍니다.\n",
    "# 본 퀴즈는 정답 check snippet이 없습니다.\n",
    "# 단, 아래 코드 결과가 (64, 3, 20, 20)이어야 합니다.\n",
    "for img, label in train_loader:\n",
    "    print(img.size())\n",
    "    break"
   ]
  },
  {
   "cell_type": "markdown",
   "metadata": {
    "colab_type": "text",
    "id": "9BqA6nS4Pqh9"
   },
   "source": [
    "# Quiz 4: Convolution filter dimension 연습 in Pytorch \n",
    "- 목적: Kernel size, Stride, Padding 에 따른 dimension 연습"
   ]
  },
  {
   "cell_type": "code",
   "execution_count": 0,
   "metadata": {
    "colab": {},
    "colab_type": "code",
    "id": "3g98r_-UPqh9"
   },
   "outputs": [],
   "source": [
    "import torch\n",
    "import torch.nn as nn"
   ]
  },
  {
   "cell_type": "code",
   "execution_count": 6,
   "metadata": {
    "colab": {
     "base_uri": "https://localhost:8080/",
     "height": 35
    },
    "colab_type": "code",
    "executionInfo": {
     "elapsed": 629,
     "status": "ok",
     "timestamp": 1564999697897,
     "user": {
      "displayName": "Jinho Oh",
      "photoUrl": "",
      "userId": "02040711940562046197"
     },
     "user_tz": -540
    },
    "id": "sdqTPq89Pqh_",
    "outputId": "2e842b91-09a5-4f35-9c83-34040021687f"
   },
   "outputs": [
    {
     "name": "stdout",
     "output_type": "stream",
     "text": [
      "torch.Size([16, 1])\n"
     ]
    }
   ],
   "source": [
    "####==== 4. Convolution filter dimension 연습 in Pytorch  ====####\n",
    "\n",
    "sample_input = torch.randn(16, 3, 28, 28)\n",
    "# 빈 곳을 채워서 위의 sample 입력값에 대해 아래와 같은 구조의 뉴럴넷이 되도록 해봅시다.\n",
    "# ? 부분만 채워넣으면 됩니다. / activation 함수, 기타 다른 구조를 여기서는 생략했습니다.\n",
    "# (16, 3, 28, 28) -> conv1 -> (16, 6, 28, 28)\n",
    "# (16, 6, 28, 28) -> conv2 -> (16, 12, 14, 14)\n",
    "# (16, 12, 14, 14) -> conv3 -> (16, 24, 7, 7)\n",
    "# (16, 24, 7, 7) -> view function -> (16, 24 * 7 * 7)\n",
    "# (16, 24 * 7 * 7) -> fc -> (16, 1)\n",
    "\n",
    "class Conv_Net(nn.Module):\n",
    "    def __init__(self):\n",
    "        super(Conv_Net, self).__init__()\n",
    "        self.conv1 = nn.Conv2d(in_channels=3, out_channels=6, kernel_size=3, stride=1, padding=1)     #############################\n",
    "        self.conv2 = nn.Conv2d(in_channels=6, out_channels=12, kernel_size=4, stride=2, padding=1)    ##############################\n",
    "        self.conv3 = nn.Conv2d(in_channels=12, out_channels=24, kernel_size=4, stride=2, padding=1)   ###############################\n",
    "        self.fc = nn.Linear(24 * 7 * 7, 1)\n",
    "\n",
    "    def forward(self, x):\n",
    "        x = self.conv1(x)\n",
    "        assert x.size() == (16, 6, 28, 28), \"Size mismatched after conv1\"\n",
    "        \n",
    "        x = self.conv2(x)\n",
    "        assert x.size() == (16, 12, 14, 14), \"Size mismatched after conv2\"\n",
    "\n",
    "        x = self.conv3(x)\n",
    "        assert x.size() == (16, 24, 7, 7), \"Size mismatched after conv3\"\n",
    "        \n",
    "        x = x.view(16, 24 * 7 * 7)\n",
    "        assert x.size() == (16, 24*7*7), \"Size mismatched after view\"\n",
    "                               \n",
    "        x = self.fc(x)\n",
    "        return x\n",
    "##### 정답 check ####\n",
    "# 아래의 코드가 문제 없이 실행되면 성공!\n",
    "# 참고) 아웃풋 사이즈 계산시 pytorch는 내림을 사용합니다. \n",
    "model = Conv_Net()\n",
    "output = model(sample_input)\n",
    "print(output.size())"
   ]
  },
  {
   "cell_type": "markdown",
   "metadata": {
    "colab_type": "text",
    "id": "euYKxHkzPqiC"
   },
   "source": [
    "# Quiz 5: Hog feature output size 계산\n",
    "- 강의 내용을 참고하여 HOG 피처의 디멘션을 계산하는 함수를 만들어 주세요.\n",
    "- 아래 정의되 있는 함수에서 ? 부분을 채워 주시면 됩니다."
   ]
  },
  {
   "cell_type": "code",
   "execution_count": 0,
   "metadata": {
    "colab": {},
    "colab_type": "code",
    "id": "01aiVDG7PqiC"
   },
   "outputs": [],
   "source": [
    "from skimage.feature import hog\n",
    "import numpy as np"
   ]
  },
  {
   "cell_type": "code",
   "execution_count": 0,
   "metadata": {
    "colab": {},
    "colab_type": "code",
    "id": "Cn0MJjZaPqiD"
   },
   "outputs": [],
   "source": [
    "####==== 5. HOG 피처 디멘션 계산하기 ====####\n",
    "def get_output_dim(image_size, orient, pix_per_cell, cell_per_block):\n",
    "    \"\"\"\n",
    "    @orient - 히스토그램에서의 bin의 개수\n",
    "    @pix_per_cell - 하나의 셀에서 픽셀 단위의 width & height \n",
    "    @cell_per_block - 하나의 block에서 셀 단위의 width & height\n",
    "    \"\"\"\n",
    "    bins_per_cell = orient * (cell_per_block ** 2)                       ########################################\n",
    "    blocks_along_axis = np.floor(image_size // pix_per_cell)             ########################################\n",
    "    windows_along_axis = blocks_along_axis - cell_per_block + 1          ########################################\n",
    "    return bins_per_cell * (windows_along_axis ** 2)                    ########################################"
   ]
  },
  {
   "cell_type": "code",
   "execution_count": 10,
   "metadata": {
    "colab": {
     "base_uri": "https://localhost:8080/",
     "height": 125
    },
    "colab_type": "code",
    "executionInfo": {
     "elapsed": 620,
     "status": "ok",
     "timestamp": 1564999742558,
     "user": {
      "displayName": "Jinho Oh",
      "photoUrl": "",
      "userId": "02040711940562046197"
     },
     "user_tz": -540
    },
    "id": "UArw4vDbPqiF",
    "outputId": "b4d924ff-69e0-4b66-8087-7027efa2718f"
   },
   "outputs": [
    {
     "name": "stdout",
     "output_type": "stream",
     "text": [
      "1764.0\n",
      "문제 5 : 정답입니다\n"
     ]
    },
    {
     "name": "stderr",
     "output_type": "stream",
     "text": [
      "/usr/local/lib/python3.6/dist-packages/skimage/feature/_hog.py:165: RuntimeWarning: invalid value encountered in sqrt\n",
      "  image = np.sqrt(image)\n",
      "/usr/local/lib/python3.6/dist-packages/skimage/feature/_hog.py:239: skimage_deprecation: Argument `visualise` is deprecated and will be changed to `visualize` in v0.16\n",
      "  'be changed to `visualize` in v0.16', skimage_deprecation)\n"
     ]
    }
   ],
   "source": [
    "##### 정답 check ####\n",
    "image_size = 64\n",
    "orient = 9    # 9개의 bin 히스토그램을 만들시 각도를 나눌 개수를 선택합니다.\n",
    "pix_per_cell = 8   # total 64 pixels in cell 몇 개의 픽셀들의 그룹을 하나의 셀로 지정할지 정해줍니다. \n",
    "cell_per_block = 2  # total 4 cells in block 몇 개의 셀들의 그룹을 하나의 블락으로 지정할지 정해줍니다.\n",
    "img = np.random.randn(image_size, image_size)\n",
    "\n",
    "features = hog(img, orientations=orient, pixels_per_cell=(pix_per_cell, pix_per_cell),\n",
    "                cells_per_block=(cell_per_block, cell_per_block), transform_sqrt=True, \n",
    "                visualise=False, feature_vector=True)\n",
    "our_dim = get_output_dim(image_size, orient, pix_per_cell, cell_per_block)   # features 1764 dim\n",
    "\n",
    "print(our_dim)\n",
    "if features.shape[0] == our_dim:\n",
    "    print(\"문제 5 : 정답입니다\")\n",
    "else:\n",
    "    print(\"문제 5 : 답이 아닙니다\")"
   ]
  },
  {
   "cell_type": "code",
   "execution_count": 0,
   "metadata": {
    "colab": {},
    "colab_type": "code",
    "id": "EYpITIRfPqiH"
   },
   "outputs": [],
   "source": []
  }
 ],
 "metadata": {
  "colab": {
   "name": "0729_ongoing.ipynb",
   "provenance": [],
   "version": "0.3.2"
  },
  "kernelspec": {
   "display_name": "Python 3",
   "language": "python",
   "name": "python3"
  },
  "language_info": {
   "codemirror_mode": {
    "name": "ipython",
    "version": 3
   },
   "file_extension": ".py",
   "mimetype": "text/x-python",
   "name": "python",
   "nbconvert_exporter": "python",
   "pygments_lexer": "ipython3",
   "version": "3.7.3"
  }
 },
 "nbformat": 4,
 "nbformat_minor": 1
}
